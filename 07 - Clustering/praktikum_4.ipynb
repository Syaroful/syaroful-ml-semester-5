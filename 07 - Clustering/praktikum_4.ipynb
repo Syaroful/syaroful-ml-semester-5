{
  "nbformat": 4,
  "nbformat_minor": 0,
  "metadata": {
    "colab": {
      "provenance": [],
      "mount_file_id": "1tbnweFnMcGKiPeOLgz3VA7H9h8dvhyHP",
      "authorship_tag": "ABX9TyPMBGAdy4d+eRy4TgPlv5oJ"
    },
    "kernelspec": {
      "name": "python3",
      "display_name": "Python 3"
    },
    "language_info": {
      "name": "python"
    }
  },
  "cells": [
    {
      "cell_type": "code",
      "execution_count": null,
      "metadata": {
        "id": "EKQQLuwofkIT",
        "colab": {
          "base_uri": "https://localhost:8080/"
        },
        "outputId": "a700ee2e-c8b2-4544-8e25-42b0de633439"
      },
      "outputs": [
        {
          "output_type": "stream",
          "name": "stdout",
          "text": [
            "Requirement already satisfied: minisom in /usr/local/lib/python3.10/dist-packages (2.3.1)\n"
          ]
        }
      ],
      "source": [
        "pip install minisom"
      ]
    },
    {
      "cell_type": "code",
      "source": [
        "import numpy as np\n",
        "import matplotlib.pyplot as plt\n",
        "from skimage import io"
      ],
      "metadata": {
        "id": "R2h-hFsnrRH9"
      },
      "execution_count": null,
      "outputs": []
    },
    {
      "cell_type": "code",
      "source": [
        "# Fungsi untuk menginisialisasi bobot SOM\n",
        "def initialize_weights(input_shape, output_shape):\n",
        "    return np.random.rand(output_shape[0], output_shape[1], input_shape[2])"
      ],
      "metadata": {
        "id": "VDbzpBH7rTz_"
      },
      "execution_count": null,
      "outputs": []
    },
    {
      "cell_type": "code",
      "source": [
        "# Fungsi untuk menghitung jarak antara vektor input dan bobot SOM\n",
        "def calculate_distance(input_vector, weights):\n",
        "    return np.linalg.norm(input_vector - weights, axis=2)"
      ],
      "metadata": {
        "id": "zFFIyPnZrWU6"
      },
      "execution_count": null,
      "outputs": []
    },
    {
      "cell_type": "code",
      "source": [
        "# Fungsi untuk memperbarui bobot SOM\n",
        "def update_weights(input_vector, weights, winner, learning_rate, neighborhood_radius):\n",
        "    distances = np.linalg.norm(np.indices(weights.shape[:2]).T - np.array(winner).reshape(1, -1), axis=2)\n",
        "    influence = np.exp(-distances / (2 * neighborhood_radius**2))\n",
        "    weights += learning_rate * influence[:, :, np.newaxis] * (input_vector - weights)"
      ],
      "metadata": {
        "id": "wVaov5QXrYnY"
      },
      "execution_count": null,
      "outputs": []
    },
    {
      "cell_type": "code",
      "source": [
        "# Fungsi untuk melatih SOM\n",
        "def train_som(image, num_epochs, initial_learning_rate, initial_neighborhood_radius):\n",
        "    input_shape = image.shape\n",
        "    som_shape = (10, 10, input_shape[2])  # Ukuran SOM sesuai dengan jumlah saluran warna\n",
        "    weights = initialize_weights(input_shape, som_shape)\n",
        "\n",
        "    for epoch in range(num_epochs):\n",
        "        # Update parameter pembelajaran dan radius tetangga\n",
        "        learning_rate = initial_learning_rate * np.exp(-epoch / num_epochs)\n",
        "        neighborhood_radius = initial_neighborhood_radius * np.exp(-epoch / num_epochs)\n",
        "        # Pemrosesan SOM\n",
        "        for i in range(input_shape[0]):\n",
        "            for j in range(input_shape[1]):\n",
        "                input_vector = image[i, j, :]\n",
        "                winner = find_winner_unit_in_image(input_vector, weights)\n",
        "                update_weights(input_vector, weights, winner, learning_rate, neighborhood_radius)\n",
        "\n",
        "    return weights"
      ],
      "metadata": {
        "id": "9BOw-qdSrZvO"
      },
      "execution_count": null,
      "outputs": []
    },
    {
      "cell_type": "code",
      "source": [
        "# Load citra Lenna (Anda bisa mengganti ini dengan citra lain jika diperlukan)\n",
        "\n",
        "Lenna_path = \"/content/drive/MyDrive/Kuliah/Semester_5/Machine Learaning/Jobsheet/Jobsheet 7: Clustering/woman.jpg\"\n",
        "Lenna = io.imread(Lenna_path) / 255.0\n",
        "# Normalisasi intensitas piksel menjadi rentang [0, 1]"
      ],
      "metadata": {
        "id": "FwFTA21Ergtl"
      },
      "execution_count": null,
      "outputs": []
    },
    {
      "cell_type": "code",
      "source": [
        "# Latih SOM\n",
        "num_epochs = 100\n",
        "initial_learning_rate = 0.1\n",
        "initial_neighborhood_radius = 5\n",
        "trained_weights = train_som(Lenna, num_epochs, initial_learning_rate, initial_neighborhood_radius)"
      ],
      "metadata": {
        "colab": {
          "base_uri": "https://localhost:8080/",
          "height": 349
        },
        "id": "Irf8XjoSstyD",
        "outputId": "1fb20dd0-6ab9-4de0-9f5a-f4264b9c2c78"
      },
      "execution_count": null,
      "outputs": [
        {
          "output_type": "error",
          "ename": "NameError",
          "evalue": "ignored",
          "traceback": [
            "\u001b[0;31m---------------------------------------------------------------------------\u001b[0m",
            "\u001b[0;31mNameError\u001b[0m                                 Traceback (most recent call last)",
            "\u001b[0;32m<ipython-input-42-c449faddacd6>\u001b[0m in \u001b[0;36m<cell line: 5>\u001b[0;34m()\u001b[0m\n\u001b[1;32m      3\u001b[0m \u001b[0minitial_learning_rate\u001b[0m \u001b[0;34m=\u001b[0m \u001b[0;36m0.1\u001b[0m\u001b[0;34m\u001b[0m\u001b[0;34m\u001b[0m\u001b[0m\n\u001b[1;32m      4\u001b[0m \u001b[0minitial_neighborhood_radius\u001b[0m \u001b[0;34m=\u001b[0m \u001b[0;36m5\u001b[0m\u001b[0;34m\u001b[0m\u001b[0;34m\u001b[0m\u001b[0m\n\u001b[0;32m----> 5\u001b[0;31m \u001b[0mtrained_weights\u001b[0m \u001b[0;34m=\u001b[0m \u001b[0mtrain_som\u001b[0m\u001b[0;34m(\u001b[0m\u001b[0mLenna\u001b[0m\u001b[0;34m,\u001b[0m \u001b[0mnum_epochs\u001b[0m\u001b[0;34m,\u001b[0m \u001b[0minitial_learning_rate\u001b[0m\u001b[0;34m,\u001b[0m \u001b[0minitial_neighborhood_radius\u001b[0m\u001b[0;34m)\u001b[0m\u001b[0;34m\u001b[0m\u001b[0;34m\u001b[0m\u001b[0m\n\u001b[0m",
            "\u001b[0;32m<ipython-input-38-9effd5597688>\u001b[0m in \u001b[0;36mtrain_som\u001b[0;34m(image, num_epochs, initial_learning_rate, initial_neighborhood_radius)\u001b[0m\n\u001b[1;32m     13\u001b[0m             \u001b[0;32mfor\u001b[0m \u001b[0mj\u001b[0m \u001b[0;32min\u001b[0m \u001b[0mrange\u001b[0m\u001b[0;34m(\u001b[0m\u001b[0minput_shape\u001b[0m\u001b[0;34m[\u001b[0m\u001b[0;36m1\u001b[0m\u001b[0;34m]\u001b[0m\u001b[0;34m)\u001b[0m\u001b[0;34m:\u001b[0m\u001b[0;34m\u001b[0m\u001b[0;34m\u001b[0m\u001b[0m\n\u001b[1;32m     14\u001b[0m                 \u001b[0minput_vector\u001b[0m \u001b[0;34m=\u001b[0m \u001b[0mimage\u001b[0m\u001b[0;34m[\u001b[0m\u001b[0mi\u001b[0m\u001b[0;34m,\u001b[0m \u001b[0mj\u001b[0m\u001b[0;34m,\u001b[0m \u001b[0;34m:\u001b[0m\u001b[0;34m]\u001b[0m\u001b[0;34m\u001b[0m\u001b[0;34m\u001b[0m\u001b[0m\n\u001b[0;32m---> 15\u001b[0;31m                 \u001b[0mwinner\u001b[0m \u001b[0;34m=\u001b[0m \u001b[0mfind_winner_unit_in_image\u001b[0m\u001b[0;34m(\u001b[0m\u001b[0minput_vector\u001b[0m\u001b[0;34m,\u001b[0m \u001b[0mweights\u001b[0m\u001b[0;34m)\u001b[0m\u001b[0;34m\u001b[0m\u001b[0;34m\u001b[0m\u001b[0m\n\u001b[0m\u001b[1;32m     16\u001b[0m                 \u001b[0mupdate_weights\u001b[0m\u001b[0;34m(\u001b[0m\u001b[0minput_vector\u001b[0m\u001b[0;34m,\u001b[0m \u001b[0mweights\u001b[0m\u001b[0;34m,\u001b[0m \u001b[0mwinner\u001b[0m\u001b[0;34m,\u001b[0m \u001b[0mlearning_rate\u001b[0m\u001b[0;34m,\u001b[0m \u001b[0mneighborhood_radius\u001b[0m\u001b[0;34m)\u001b[0m\u001b[0;34m\u001b[0m\u001b[0;34m\u001b[0m\u001b[0m\n\u001b[1;32m     17\u001b[0m \u001b[0;34m\u001b[0m\u001b[0m\n",
            "\u001b[0;31mNameError\u001b[0m: name 'find_winner_unit_in_image' is not defined"
          ]
        }
      ]
    },
    {
      "cell_type": "code",
      "source": [
        "# Visualisasi bobot SOM\n",
        "plt.imshow(trained_weights)\n",
        "plt.title('Trained SOM Weights for Lena')\n",
        "plt.show()"
      ],
      "metadata": {
        "colab": {
          "base_uri": "https://localhost:8080/",
          "height": 227
        },
        "id": "WR01zM3WswA9",
        "outputId": "632175f1-4a28-492e-dee9-19c3c7c204d3"
      },
      "execution_count": null,
      "outputs": [
        {
          "output_type": "error",
          "ename": "NameError",
          "evalue": "ignored",
          "traceback": [
            "\u001b[0;31m---------------------------------------------------------------------------\u001b[0m",
            "\u001b[0;31mNameError\u001b[0m                                 Traceback (most recent call last)",
            "\u001b[0;32m<ipython-input-43-38f9785ba15c>\u001b[0m in \u001b[0;36m<cell line: 2>\u001b[0;34m()\u001b[0m\n\u001b[1;32m      1\u001b[0m \u001b[0;31m# Visualisasi bobot SOM\u001b[0m\u001b[0;34m\u001b[0m\u001b[0;34m\u001b[0m\u001b[0m\n\u001b[0;32m----> 2\u001b[0;31m \u001b[0mplt\u001b[0m\u001b[0;34m.\u001b[0m\u001b[0mimshow\u001b[0m\u001b[0;34m(\u001b[0m\u001b[0mtrained_weights\u001b[0m\u001b[0;34m)\u001b[0m\u001b[0;34m\u001b[0m\u001b[0;34m\u001b[0m\u001b[0m\n\u001b[0m\u001b[1;32m      3\u001b[0m \u001b[0mplt\u001b[0m\u001b[0;34m.\u001b[0m\u001b[0mtitle\u001b[0m\u001b[0;34m(\u001b[0m\u001b[0;34m'Trained SOM Weights for Lena'\u001b[0m\u001b[0;34m)\u001b[0m\u001b[0;34m\u001b[0m\u001b[0;34m\u001b[0m\u001b[0m\n\u001b[1;32m      4\u001b[0m \u001b[0mplt\u001b[0m\u001b[0;34m.\u001b[0m\u001b[0mshow\u001b[0m\u001b[0;34m(\u001b[0m\u001b[0;34m)\u001b[0m\u001b[0;34m\u001b[0m\u001b[0;34m\u001b[0m\u001b[0m\n",
            "\u001b[0;31mNameError\u001b[0m: name 'trained_weights' is not defined"
          ]
        }
      ]
    }
  ]
}